{
 "cells": [
  {
   "cell_type": "code",
   "execution_count": 2,
   "id": "ddc80b3f",
   "metadata": {},
   "outputs": [],
   "source": [
    "import requests\n",
    "url = \"https://valencia.opendatasoft.com/api/records/1.0/search/\"\n",
    "params = {\"dataset\":\"recursos-turisticos\", \"refine.objectid\":85}\n",
    "res = requests.get(url, params=params)\n",
    "pdf_url = res.json()[\"records\"][0][\"fields\"][\"informacion_recurso\"]\n"
   ]
  },
  {
   "cell_type": "code",
   "execution_count": 3,
   "id": "ae14da67",
   "metadata": {},
   "outputs": [
    {
     "name": "stderr",
     "output_type": "stream",
     "text": [
      "CropBox missing from /Page, defaulting to MediaBox\n",
      "CropBox missing from /Page, defaulting to MediaBox\n",
      "CropBox missing from /Page, defaulting to MediaBox\n",
      "CropBox missing from /Page, defaulting to MediaBox\n",
      "CropBox missing from /Page, defaulting to MediaBox\n",
      "CropBox missing from /Page, defaulting to MediaBox\n"
     ]
    }
   ],
   "source": [
    "import requests\n",
    "import io\n",
    "import pdfplumber\n",
    "res_pdf = requests.get(pdf_url)\n",
    "with pdfplumber.open(io.BytesIO(res_pdf.content)) as pdf:\n",
    "    texto = \"\\n\".join(page.extract_text() for page in pdf.pages)\n"
   ]
  },
  {
   "cell_type": "code",
   "execution_count": 3,
   "id": "0c60823f",
   "metadata": {},
   "outputs": [
    {
     "data": {
      "text/plain": [
       "'Iglesia de Ntra. Sra. de los Ángeles\\nFue fundada como ermita del gremio de pescadores a principios del siglo XIX en honor\\na la Virgen. En 1791 el arquitecto José Fornés realiza el proyecto de la iglesia por\\nencargo de la Comunidad de Marineros Matriculados, quien costeó las obras finalizadas\\nen 1807. Situada en los límites que forman El Cabanyal con Cap de França, en la\\nactualidad barrios de la ciudad de València, pero antiguamente poblados que formaban\\nparte de Pueblo Nuevo del Mar. Es conocida como iglesia de El Cabanyal. Hay que\\nmencionar que el nombre de Cabañal o «Cabanyal» procede de «cabañas» que era la\\nconstrucción típica de esta parte de la costa.\\nHacia finales del mismo siglo la iglesia había adquirido una nueva configuración en un\\nestilo neoclásico muy mesurado que vagamente recuerda la actual construcción. La\\ntitularidad como parroquia independiente la ostenta desde 1902, ya que con anterioridad\\nla iglesia dependía de la de Santo Tomás de València a cuya demarcación pertenecía.\\nSu actual fachada de corte clásico y presenta las imágenes de San Andrés y San Pedro,\\nambos pescadores. Está conformada por un cuerpo central flanqueado por dos torres de\\ndistinta altura:\\n- La más alta se realizó en 1921 con dos cuerpos y remate con templete de estilo\\nbarroco; tiene una altura de 30 metros y está formada por cuatro cuerpos, el tercero de\\nellos alberga un reloj, mientras que en el cuarto se alojan las campanas San José (1940),\\nSantísimo Cristo del Salvador (1964), Ntra. Sra. de los Ángeles (1986) y Sagrado\\nCorazón de Jesús (1995). Remata la torre un templete-mirador con reminiscencias\\nbarrocas y una balaustrada. El primero y segundo cuerpo de esta torre corresponden a la\\nestructura original del viejo templo, cuya torre apenas sobrepasaba la fachada de la\\niglesia.\\n- La otra torre alojaba en su parte superior un faro para los pescadores y navegantes del\\nCabanyal. La existencia del faro se remonta al año 1843, aunque su uso no comenzó\\nhasta 1863 y estuvo en funcionamiento hasta 1917. Finalmente en 1925 fue desmontado\\ndefinitivamente.\\nDestaca en la fachada un retablo cerámico de finales del S. XVIII de Ntra. Sra. de los\\nDolores con Felipe Benisio y San Peregrín compuesto por cuarenta piezas de 0,2 x 0,2\\nm, realizado con pintura cerámica polícroma vidriada. Fue restaurado en 1972 por el\\nceramista de Manises José Gimeno.\\nEn su fachada se puede ver también, un panel de cerámica que dice: Restaurado por el\\nExcmo. Ayuntamiento. Semana Santa. Año 1972. En otro panel situado en la parte baja\\nde la alta torre, se nos informa acerca de las Corporaciones y Hermandades que tienen\\nsu asiento en la iglesia de Nuestra Señora de los Ángeles y que son: Hermandad del\\nSantísimo Ecce-Homo, Hermandad de Jesús con la cruz, Corporación armada de\\nLonginos, Hermandad del Santísimo Cristo del Perdón, Hermandad del Santísimo\\nCristo del Salvador, Corporación armada de Granaderos de la Virgen y Hermandad del\\nSanto Silencio y Vera Cruz. València Abril de 1977.\\nEn el cuerpo central, la puerta de entrada adintelada se remata por un frontón partido y\\nen su centro una sencilla cruz. En el segundo cuerpo encontramos dos hornacinas con\\nimágenes de San Andrés y San Pedro y entre ambos en el centro de la composición un\\nóculo circular que ya se encontraba presente en la vieja edificación. En el tercer cuerpo\\ntres arcos de medio punto cegados y como remate final un frontón triangular. A destacar\\nla bicromía de la pintura de la fachada, la parte arquitectónica de un color rojizo claro;\\nmientras que la parte ornamental (pilastras, frontones y elementos decorativos) tienen\\nuna tonalidad mucho más clara.\\nEl interior se distribuye en una nave única abovedada de medio cañón y lunetos, está\\napoyada sobre arcos de medio punto, con capillas a ambos lados.\\nEn el altar mayor hay una imagen de la Virgen de Nuestra Señora de los Ángeles con el\\nniño Jesús, a quien se dedica la iglesia. La acoge también al Santísimo Cristo del\\nSalvador, patrón de El Cabanyal y a la Virgen de los Dolores, y en la Capilla de la\\nComunión resalta la talla en madera del Santísimo Cristo del Salvador fechada en 1940,\\nobra del imaginero José Estellés Achotegui y de Carmelo Vicent, que se encuentre sobre\\nel sagrario barroco obra del orfebre valenciano Piró. Normalmente esta figura no se\\nencuentra en la iglesia, ya que es habitual que la misma se encuentre fuera del templo en\\ncasas particulares correspondiente a alguna cofradía de la Semana Santa.\\nDurante la Guerra Civil, la iglesia sufrió grandes desperfectos y más durante la riada de\\n1957 sobre todo en su interior, perdiéndose numerosos retablos. Su interior se redecoró\\nen 1961 con pinturas al fresco o con paneles, principalmente realizadas por De Casas,\\nmonje benedictino de la abadía de Montserrat, como un Pantocrátor y figuras alegóricas\\na la Eucaristía.\\nLa iglesia en otra época. Fuente:\\nhttp://www.jdiezarnal.com/Valènciaiglesiadelosangeles.html#\\nOtra foto antigua de la iglesia, donde se observa el faro. Fuente:\\nhttps://voramarlaValènciamaritimaimes.blogspot.com/2019/03/el-faro-de-la-iglesia-de-\\nnuestra-senora.html'"
      ]
     },
     "execution_count": 3,
     "metadata": {},
     "output_type": "execute_result"
    }
   ],
   "source": [
    "texto"
   ]
  },
  {
   "cell_type": "code",
   "execution_count": 5,
   "id": "7bb1d7f2",
   "metadata": {},
   "outputs": [
    {
     "name": "stdout",
     "output_type": "stream",
     "text": [
      "Procesando chunk 1/2… Hecho en 49.25s\n",
      "Procesando chunk 2/2… Hecho en 15.10s\n",
      "Proceso finalizado.\n"
     ]
    }
   ],
   "source": [
    "import time\n",
    "from gtts import gTTS\n",
    "\n",
    "max_chars = 4000\n",
    "chunks = [texto[i:i+max_chars] for i in range(0, len(texto), max_chars)]\n",
    "total = len(chunks)\n",
    "\n",
    "with open(\"recurso85.mp3\", \"wb\") as f_out:\n",
    "    for idx, chunk in enumerate(chunks, start=1):\n",
    "        print(f\"Procesando chunk {idx}/{total}…\", end=\" \", flush=True)\n",
    "        t0 = time.time()\n",
    "        try:\n",
    "            tts = gTTS(text=chunk, lang=\"es\")\n",
    "            buf = io.BytesIO()\n",
    "            tts.write_to_fp(buf)\n",
    "            buf.seek(0)\n",
    "            f_out.write(buf.read())\n",
    "            print(f\"Hecho en {time.time()-t0:.2f}s\")\n",
    "        except Exception as e:\n",
    "            print(\"ERROR:\", e)\n",
    "            break\n",
    "\n",
    "print(\"Proceso finalizado.\")\n",
    "\n"
   ]
  },
  {
   "cell_type": "code",
   "execution_count": 7,
   "id": "f37111e6",
   "metadata": {},
   "outputs": [
    {
     "name": "stdout",
     "output_type": "stream",
     "text": [
      "Todos los fragmentos TTS guardados.\n"
     ]
    }
   ],
   "source": [
    "import pyttsx3\n",
    "\n",
    "engine = pyttsx3.init()\n",
    "engine.setProperty(\"rate\", 150)    # velocidad (palabras por minuto)\n",
    "engine.setProperty(\"volume\", 1.0)  # volumen 0.0 a 1.0\n",
    "\n",
    "# De nuevo, si el texto es muy largo, trocéalo:\n",
    "max_chars = 3000\n",
    "chunks = [texto[i:i+max_chars] for i in range(0, len(texto), max_chars)]\n",
    "\n",
    "for i, chunk in enumerate(chunks):\n",
    "    # guardamos cada fragmento como un MP3/WAV separado\n",
    "    filename = f\"recurso85_part{i+1}.mp3\"\n",
    "    engine.save_to_file(chunk, filename)\n",
    "\n",
    "# Ejecuta la cola de tareas y cierra el motor\n",
    "engine.runAndWait()\n",
    "print(\"Todos los fragmentos TTS guardados.\")\n"
   ]
  },
  {
   "cell_type": "markdown",
   "id": "4fdb63d7",
   "metadata": {},
   "source": [
    "6. Itinerario y planificación\n",
    "Creación de rutas combinadas: deja al usuario seleccionar varios puntos y genera la ruta óptima que pase por todos.\n",
    "\n",
    "Estimación de tiempo: calcula duración total (bicicleta + paradas + tiempo de visita)."
   ]
  }
 ],
 "metadata": {
  "kernelspec": {
   "display_name": "Python 3",
   "language": "python",
   "name": "python3"
  },
  "language_info": {
   "codemirror_mode": {
    "name": "ipython",
    "version": 3
   },
   "file_extension": ".py",
   "mimetype": "text/x-python",
   "name": "python",
   "nbconvert_exporter": "python",
   "pygments_lexer": "ipython3",
   "version": "3.12.10"
  }
 },
 "nbformat": 4,
 "nbformat_minor": 5
}
